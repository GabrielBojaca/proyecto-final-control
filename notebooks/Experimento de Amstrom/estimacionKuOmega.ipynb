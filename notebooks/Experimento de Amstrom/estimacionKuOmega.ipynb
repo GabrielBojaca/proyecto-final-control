{
 "cells": [
  {
   "cell_type": "markdown",
   "metadata": {},
   "source": [
    "## Estimación Ku Omega\n",
    "Codigo generado por ChatGPT"
   ]
  },
  {
   "cell_type": "code",
   "execution_count": 10,
   "metadata": {},
   "outputs": [
    {
     "ename": "ModuleNotFoundError",
     "evalue": "No module named 'plotly'",
     "output_type": "error",
     "traceback": [
      "\u001b[1;31m---------------------------------------------------------------------------\u001b[0m",
      "\u001b[1;31mModuleNotFoundError\u001b[0m                       Traceback (most recent call last)",
      "Cell \u001b[1;32mIn[10], line 2\u001b[0m\n\u001b[0;32m      1\u001b[0m \u001b[38;5;28;01mimport\u001b[39;00m \u001b[38;5;21;01mpandas\u001b[39;00m \u001b[38;5;28;01mas\u001b[39;00m \u001b[38;5;21;01mpd\u001b[39;00m\n\u001b[1;32m----> 2\u001b[0m \u001b[38;5;28;01mimport\u001b[39;00m \u001b[38;5;21;01mplotly\u001b[39;00m\u001b[38;5;21;01m.\u001b[39;00m\u001b[38;5;21;01mgraph_objects\u001b[39;00m \u001b[38;5;28;01mas\u001b[39;00m \u001b[38;5;21;01mgo\u001b[39;00m\n\u001b[0;32m      3\u001b[0m \u001b[38;5;28;01mimport\u001b[39;00m \u001b[38;5;21;01mnumpy\u001b[39;00m \u001b[38;5;28;01mas\u001b[39;00m \u001b[38;5;21;01mnp\u001b[39;00m\n\u001b[0;32m      5\u001b[0m \u001b[38;5;28;01mdef\u001b[39;00m \u001b[38;5;21mcalcular_parametros\u001b[39m(df):\n\u001b[0;32m      6\u001b[0m     \u001b[38;5;66;03m# Medir el valor pico a pico de la salida y(t)\u001b[39;00m\n",
      "\u001b[1;31mModuleNotFoundError\u001b[0m: No module named 'plotly'"
     ]
    }
   ],
   "source": [
    "import pandas as pd\n",
    "import plotly.graph_objects as go\n",
    "import numpy as np\n",
    "\n",
    "def calcular_parametros(df):\n",
    "    # Medir el valor pico a pico de la salida y(t)\n",
    "    ypp = df[\"y(t)\"].max() - df[\"y(t)\"].min()\n",
    "    a = ypp / 2\n",
    "    \n",
    "    # Encontrar el periodo Tu de la oscilación de u(t)\n",
    "    difs = np.diff(df[\"u(t)\"].values)\n",
    "    cruces = np.where(np.sign(difs[:-1]) != np.sign(difs[1:]))[0]\n",
    "    if len(cruces) > 1:\n",
    "        Tu = np.mean(np.diff(df[\"tiempo\"].iloc[cruces]))\n",
    "        print(Tu)\n",
    "    else:\n",
    "        Tu = np.nan  # No se detectaron suficientes cruces\n",
    "        print(Tu)\n",
    "    \n",
    "    # Calcular Ku y ωu\n",
    "    e = 0  # Ajuste según el sistema\n",
    "    Ku = (4 / np.pi) * (df[\"u(t)\"].max() / np.sqrt(a**2 - e**2)) if a > e else np.nan\n",
    "    omega_u = (2 * np.pi) / Tu if Tu > 0 else np.nan\n",
    "    \n",
    "    return Ku, omega_u\n",
    "\n",
    "def graficar_datos(archivo, n_skip):\n",
    "    # Cargar datos omitiendo las primeras n filas\n",
    "    df = pd.read_csv(archivo, skiprows=n_skip, sep=\",\", engine=\"python\")\n",
    "    \n",
    "    # Nombrar columnas\n",
    "    df.columns = [\"tiempo\", \"u(t)\", \"y(t)\"]\n",
    "    \n",
    "    # Calcular parámetros del sistema\n",
    "    Ku, omega_u = calcular_parametros(df)\n",
    "    \n",
    "    # Crear gráfica con zoom habilitado\n",
    "    fig = go.Figure()\n",
    "    fig.add_trace(go.Scatter(x=df[\"tiempo\"], y=df[\"u(t)\"], mode='lines+markers', name=\"u(t)\"))\n",
    "    fig.add_trace(go.Scatter(x=df[\"tiempo\"], y=df[\"y(t)\"], mode='lines+markers', name=\"y(t)\"))\n",
    "    \n",
    "    fig.update_layout(title=f\"Gráfica de u(t) y y(t)\\nKu={Ku:.3f}, ωu={omega_u:.3f}\",\n",
    "                      xaxis_title=\"Tiempo (s)\",\n",
    "                      yaxis_title=\"Valores\",\n",
    "                      template=\"plotly_white\",\n",
    "                      xaxis=dict(rangemode='normal'),\n",
    "                      yaxis=dict(rangemode='normal'))\n",
    "    \n",
    "    fig.show()\n",
    "\n",
    "# Graficar por primera vez\n",
    "graficar_datos(\"salida.txt\", n_skip=8500)"
   ]
  },
  {
   "cell_type": "code",
   "execution_count": 1,
   "metadata": {},
   "outputs": [
    {
     "name": "stdout",
     "output_type": "stream",
     "text": [
      "0.0083858915368646 0.0011724984658354988 0.0046390243902439034\n"
     ]
    }
   ],
   "source": [
    "b = 80.0\n",
    "L = 0.574\n",
    "tau1 = 0.4328\n",
    "kp = (0.37 / (b * L)) + (0.02 * tau1 / (b *L*L))\n",
    "ki = (0.03 / (b * (L*L))) + (0.0012 * tau1 / (b*L*L*L))\n",
    "kd = (0.16 / b) + (0.28 * tau1 / (b * L))\n",
    "print(kp, ki , kd)"
   ]
  }
 ],
 "metadata": {
  "kernelspec": {
   "display_name": "Python 3",
   "language": "python",
   "name": "python3"
  },
  "language_info": {
   "codemirror_mode": {
    "name": "ipython",
    "version": 3
   },
   "file_extension": ".py",
   "mimetype": "text/x-python",
   "name": "python",
   "nbconvert_exporter": "python",
   "pygments_lexer": "ipython3",
   "version": "3.12.9"
  }
 },
 "nbformat": 4,
 "nbformat_minor": 2
}
